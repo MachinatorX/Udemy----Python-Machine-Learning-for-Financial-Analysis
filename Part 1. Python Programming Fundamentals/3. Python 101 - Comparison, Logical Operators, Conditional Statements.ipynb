{
 "cells": [
  {
   "cell_type": "markdown",
   "metadata": {
    "colab_type": "text",
    "id": "CV9YCHsGtAP5"
   },
   "source": [
    "# 1. COMPARISON OPERATORS\n"
   ]
  },
  {
   "cell_type": "code",
   "execution_count": 2,
   "metadata": {
    "colab": {
     "base_uri": "https://localhost:8080/",
     "height": 34
    },
    "colab_type": "code",
    "executionInfo": {
     "elapsed": 297,
     "status": "ok",
     "timestamp": 1599884818005,
     "user": {
      "displayName": "Stemplicity",
      "photoUrl": "https://lh3.googleusercontent.com/a-/AOh14Gj2vCFt-bD5mPBhUWX0QA6xiBgoXQXtwUm2jgjaCg=s64",
      "userId": "10668071569687886186"
     },
     "user_tz": 240
    },
    "id": "o9VtOcrKtCc1",
    "outputId": "762a7d13-fe03-4ec4-a3d8-972e74778aa0"
   },
   "outputs": [
    {
     "data": {
      "text/plain": [
       "False"
      ]
     },
     "execution_count": 2,
     "metadata": {},
     "output_type": "execute_result"
    }
   ],
   "source": [
    "# Comparison Operator output could be \"True\" or \"False\"\n",
    "# Let's cover equal '==' comparison operator first\n",
    "# It's simply a question: \"Is stock_1_price equals stock_2_price or not?\"\n",
    "# \"True\" output means condition is satisfied \n",
    "# \"False\" output means Condition is not satisfied (condition is not true) \n",
    "\n",
    "stock_1_price = 1000\n",
    "stock_2_price = 10000\n",
    "\n",
    "stock_1_price == stock_2_price"
   ]
  },
  {
   "cell_type": "code",
   "execution_count": 3,
   "metadata": {
    "colab": {
     "base_uri": "https://localhost:8080/",
     "height": 34
    },
    "colab_type": "code",
    "executionInfo": {
     "elapsed": 306,
     "status": "ok",
     "timestamp": 1599884844835,
     "user": {
      "displayName": "Stemplicity",
      "photoUrl": "https://lh3.googleusercontent.com/a-/AOh14Gj2vCFt-bD5mPBhUWX0QA6xiBgoXQXtwUm2jgjaCg=s64",
      "userId": "10668071569687886186"
     },
     "user_tz": 240
    },
    "id": "l48NWuCztX5G",
    "outputId": "df27fd21-2378-439e-9744-ce8a2b37559d"
   },
   "outputs": [
    {
     "data": {
      "text/plain": [
       "True"
      ]
     },
     "execution_count": 3,
     "metadata": {},
     "output_type": "execute_result"
    }
   ],
   "source": [
    "# Greater than or equal operator '>='\n",
    "\n",
    "stock_1_price = 5000\n",
    "stock_2_price = 1000\n",
    "\n",
    "stock_1_price >= stock_2_price"
   ]
  },
  {
   "cell_type": "code",
   "execution_count": 4,
   "metadata": {
    "colab": {},
    "colab_type": "code",
    "id": "RmUrcn31tY0_"
   },
   "outputs": [
    {
     "data": {
      "text/plain": [
       "10"
      ]
     },
     "execution_count": 4,
     "metadata": {},
     "output_type": "execute_result"
    }
   ],
   "source": [
    "# Note that '==' is a comparison operator \n",
    "# Note that '=' is used for variable assignment (put 10 in stock_1_price)\n"
   ]
  },
  {
   "cell_type": "code",
   "execution_count": 5,
   "metadata": {
    "colab": {
     "base_uri": "https://localhost:8080/",
     "height": 34
    },
    "colab_type": "code",
    "executionInfo": {
     "elapsed": 335,
     "status": "ok",
     "timestamp": 1599884886296,
     "user": {
      "displayName": "Stemplicity",
      "photoUrl": "https://lh3.googleusercontent.com/a-/AOh14Gj2vCFt-bD5mPBhUWX0QA6xiBgoXQXtwUm2jgjaCg=s64",
      "userId": "10668071569687886186"
     },
     "user_tz": 240
    },
    "id": "TttdgxEPtY3z",
    "outputId": "8984162f-4bd4-4fab-a257-7ea05148b01c"
   },
   "outputs": [
    {
     "data": {
      "text/plain": [
       "10"
      ]
     },
     "execution_count": 5,
     "metadata": {},
     "output_type": "execute_result"
    }
   ],
   "source": [
    "stock_1_price = 10\n",
    "stock_1_price"
   ]
  },
  {
   "cell_type": "code",
   "execution_count": 7,
   "metadata": {
    "colab": {
     "base_uri": "https://localhost:8080/",
     "height": 34
    },
    "colab_type": "code",
    "executionInfo": {
     "elapsed": 292,
     "status": "ok",
     "timestamp": 1599884891537,
     "user": {
      "displayName": "Stemplicity",
      "photoUrl": "https://lh3.googleusercontent.com/a-/AOh14Gj2vCFt-bD5mPBhUWX0QA6xiBgoXQXtwUm2jgjaCg=s64",
      "userId": "10668071569687886186"
     },
     "user_tz": 240
    },
    "id": "9fvPnQePtY9K",
    "outputId": "0f73f323-c39b-4a31-d5ad-609713a204fa"
   },
   "outputs": [
    {
     "data": {
      "text/plain": [
       "True"
      ]
     },
     "execution_count": 7,
     "metadata": {},
     "output_type": "execute_result"
    }
   ],
   "source": [
    "# Comparison operators work with strings as well\n",
    "'Finance' == 'Finance'"
   ]
  },
  {
   "cell_type": "code",
   "execution_count": 8,
   "metadata": {
    "colab": {
     "base_uri": "https://localhost:8080/",
     "height": 34
    },
    "colab_type": "code",
    "executionInfo": {
     "elapsed": 341,
     "status": "ok",
     "timestamp": 1599884896428,
     "user": {
      "displayName": "Stemplicity",
      "photoUrl": "https://lh3.googleusercontent.com/a-/AOh14Gj2vCFt-bD5mPBhUWX0QA6xiBgoXQXtwUm2jgjaCg=s64",
      "userId": "10668071569687886186"
     },
     "user_tz": 240
    },
    "id": "krIE9oTdtj-Q",
    "outputId": "c9db9e4b-902f-45d4-a8c9-e0d05c2e8bcb"
   },
   "outputs": [
    {
     "data": {
      "text/plain": [
       "False"
      ]
     },
     "execution_count": 8,
     "metadata": {},
     "output_type": "execute_result"
    }
   ],
   "source": [
    "# Both strings have to exactly match (lower case vs. upper case)\n",
    "'Finance' == 'finance'"
   ]
  },
  {
   "cell_type": "code",
   "execution_count": 9,
   "metadata": {
    "colab": {
     "base_uri": "https://localhost:8080/",
     "height": 34
    },
    "colab_type": "code",
    "executionInfo": {
     "elapsed": 359,
     "status": "ok",
     "timestamp": 1599884951841,
     "user": {
      "displayName": "Stemplicity",
      "photoUrl": "https://lh3.googleusercontent.com/a-/AOh14Gj2vCFt-bD5mPBhUWX0QA6xiBgoXQXtwUm2jgjaCg=s64",
      "userId": "10668071569687886186"
     },
     "user_tz": 240
    },
    "id": "WI6k596Xtlcc",
    "outputId": "2e245dc3-37ee-45b9-8686-f589324834f6"
   },
   "outputs": [
    {
     "data": {
      "text/plain": [
       "True"
      ]
     },
     "execution_count": 9,
     "metadata": {},
     "output_type": "execute_result"
    }
   ],
   "source": [
    "# Not equal comparison operator '!='\n",
    "stock_1_price = 1000\n",
    "stock_2_price = 2000\n",
    "stock_1_price != stock_2_price"
   ]
  },
  {
   "cell_type": "markdown",
   "metadata": {
    "colab_type": "text",
    "id": "eNyKRJob4Xlo"
   },
   "source": [
    "**MINI CHALLENGE #1:**\n",
    "- **Without executing the code cell, What will this code generate?**\n",
    "\n",
    "```\n",
    "stock_1_price = 15\n",
    "stock_2_price = 10\n",
    "\n",
    "print(stock_1_price == stock_2_price) \n",
    "print(stock_1_price != stock_2_price) \n",
    "print(stock_1_price > stock_2_price)\n",
    "print(stock_1_price < stock_2_price) \n",
    "```\n"
   ]
  },
  {
   "cell_type": "code",
   "execution_count": 10,
   "metadata": {
    "colab": {},
    "colab_type": "code",
    "id": "-vRyMcIhlVPg"
   },
   "outputs": [
    {
     "name": "stdout",
     "output_type": "stream",
     "text": [
      "False\n",
      "True\n",
      "True\n",
      "False\n"
     ]
    }
   ],
   "source": [
    "stock_1_price = 15\n",
    "stock_2_price = 10\n",
    "\n",
    "print(stock_1_price == stock_2_price) \n",
    "print(stock_1_price != stock_2_price) \n",
    "print(stock_1_price > stock_2_price)\n",
    "print(stock_1_price < stock_2_price)"
   ]
  },
  {
   "cell_type": "markdown",
   "metadata": {
    "colab_type": "text",
    "id": "4ElLliXmvffI"
   },
   "source": [
    "# 2. LOGICAL OPERATORS"
   ]
  },
  {
   "cell_type": "code",
   "execution_count": 11,
   "metadata": {
    "colab": {
     "base_uri": "https://localhost:8080/",
     "height": 34
    },
    "colab_type": "code",
    "executionInfo": {
     "elapsed": 319,
     "status": "ok",
     "timestamp": 1599885140223,
     "user": {
      "displayName": "Stemplicity",
      "photoUrl": "https://lh3.googleusercontent.com/a-/AOh14Gj2vCFt-bD5mPBhUWX0QA6xiBgoXQXtwUm2jgjaCg=s64",
      "userId": "10668071569687886186"
     },
     "user_tz": 240
    },
    "id": "DZ4lIrr9viXb",
    "outputId": "fdc63cc0-47e3-4d3b-88ac-c4ce983715ce"
   },
   "outputs": [
    {
     "data": {
      "text/plain": [
       "True"
      ]
     },
     "execution_count": 11,
     "metadata": {},
     "output_type": "execute_result"
    }
   ],
   "source": [
    "# For \"and\" logical operators, both arguments must be \"True\" in order for the output to be \"True\" \n",
    "# (Note that this is the only case in which the 'and' logical operator generates a True output)\n",
    "# 1 and 1 = 1\n",
    "\n",
    "True and True"
   ]
  },
  {
   "cell_type": "code",
   "execution_count": 12,
   "metadata": {
    "colab": {
     "base_uri": "https://localhost:8080/",
     "height": 34
    },
    "colab_type": "code",
    "executionInfo": {
     "elapsed": 360,
     "status": "ok",
     "timestamp": 1599885144043,
     "user": {
      "displayName": "Stemplicity",
      "photoUrl": "https://lh3.googleusercontent.com/a-/AOh14Gj2vCFt-bD5mPBhUWX0QA6xiBgoXQXtwUm2jgjaCg=s64",
      "userId": "10668071569687886186"
     },
     "user_tz": 240
    },
    "id": "tBllQqO2vxPe",
    "outputId": "8b3216dc-1a2f-4130-a603-fa136e758738"
   },
   "outputs": [
    {
     "data": {
      "text/plain": [
       "False"
      ]
     },
     "execution_count": 12,
     "metadata": {},
     "output_type": "execute_result"
    }
   ],
   "source": [
    "# 0 and 1 = 0\n",
    "\n",
    "True and False"
   ]
  },
  {
   "cell_type": "code",
   "execution_count": 13,
   "metadata": {
    "colab": {
     "base_uri": "https://localhost:8080/",
     "height": 34
    },
    "colab_type": "code",
    "executionInfo": {
     "elapsed": 320,
     "status": "ok",
     "timestamp": 1599885144937,
     "user": {
      "displayName": "Stemplicity",
      "photoUrl": "https://lh3.googleusercontent.com/a-/AOh14Gj2vCFt-bD5mPBhUWX0QA6xiBgoXQXtwUm2jgjaCg=s64",
      "userId": "10668071569687886186"
     },
     "user_tz": 240
    },
    "id": "ebgLEPrQvy1h",
    "outputId": "23acb4bf-7141-4d1f-d657-a5a5684913b3"
   },
   "outputs": [
    {
     "data": {
      "text/plain": [
       "False"
      ]
     },
     "execution_count": 13,
     "metadata": {},
     "output_type": "execute_result"
    }
   ],
   "source": [
    "# 0 and 0 = 0\n",
    "\n",
    "False and False"
   ]
  },
  {
   "cell_type": "code",
   "execution_count": 14,
   "metadata": {
    "colab": {
     "base_uri": "https://localhost:8080/",
     "height": 34
    },
    "colab_type": "code",
    "executionInfo": {
     "elapsed": 391,
     "status": "ok",
     "timestamp": 1599885147580,
     "user": {
      "displayName": "Stemplicity",
      "photoUrl": "https://lh3.googleusercontent.com/a-/AOh14Gj2vCFt-bD5mPBhUWX0QA6xiBgoXQXtwUm2jgjaCg=s64",
      "userId": "10668071569687886186"
     },
     "user_tz": 240
    },
    "id": "Y_FB6C6yvzqb",
    "outputId": "55aaa959-3879-4e0f-de19-12a58619da85"
   },
   "outputs": [
    {
     "data": {
      "text/plain": [
       "True"
      ]
     },
     "execution_count": 14,
     "metadata": {},
     "output_type": "execute_result"
    }
   ],
   "source": [
    "# For \"or\" logical operators, if any one of the arguments is \"True\", the output will be \"True\" \n",
    "# 1 or 1 = 1\n",
    "\n",
    "True or True"
   ]
  },
  {
   "cell_type": "code",
   "execution_count": 15,
   "metadata": {
    "colab": {
     "base_uri": "https://localhost:8080/",
     "height": 34
    },
    "colab_type": "code",
    "executionInfo": {
     "elapsed": 339,
     "status": "ok",
     "timestamp": 1599885151733,
     "user": {
      "displayName": "Stemplicity",
      "photoUrl": "https://lh3.googleusercontent.com/a-/AOh14Gj2vCFt-bD5mPBhUWX0QA6xiBgoXQXtwUm2jgjaCg=s64",
      "userId": "10668071569687886186"
     },
     "user_tz": 240
    },
    "id": "kiy1MhGrvzu9",
    "outputId": "bce4359d-29b1-4988-f35b-9644fb9fd2cc"
   },
   "outputs": [
    {
     "data": {
      "text/plain": [
       "True"
      ]
     },
     "execution_count": 15,
     "metadata": {},
     "output_type": "execute_result"
    }
   ],
   "source": [
    "# 1 or 0 = 1\n",
    "\n",
    "True or False"
   ]
  },
  {
   "cell_type": "code",
   "execution_count": 16,
   "metadata": {
    "colab": {
     "base_uri": "https://localhost:8080/",
     "height": 34
    },
    "colab_type": "code",
    "executionInfo": {
     "elapsed": 344,
     "status": "ok",
     "timestamp": 1599885157320,
     "user": {
      "displayName": "Stemplicity",
      "photoUrl": "https://lh3.googleusercontent.com/a-/AOh14Gj2vCFt-bD5mPBhUWX0QA6xiBgoXQXtwUm2jgjaCg=s64",
      "userId": "10668071569687886186"
     },
     "user_tz": 240
    },
    "id": "S9Zo0wWovz2j",
    "outputId": "a8f053fd-85ef-4147-c5f0-79feafa6605e"
   },
   "outputs": [
    {
     "data": {
      "text/plain": [
       "True"
      ]
     },
     "execution_count": 16,
     "metadata": {},
     "output_type": "execute_result"
    }
   ],
   "source": [
    "# 0 or 1 = 1\n",
    "\n",
    "False or True"
   ]
  },
  {
   "cell_type": "code",
   "execution_count": 17,
   "metadata": {
    "colab": {
     "base_uri": "https://localhost:8080/",
     "height": 34
    },
    "colab_type": "code",
    "executionInfo": {
     "elapsed": 315,
     "status": "ok",
     "timestamp": 1599885163849,
     "user": {
      "displayName": "Stemplicity",
      "photoUrl": "https://lh3.googleusercontent.com/a-/AOh14Gj2vCFt-bD5mPBhUWX0QA6xiBgoXQXtwUm2jgjaCg=s64",
      "userId": "10668071569687886186"
     },
     "user_tz": 240
    },
    "id": "Tu1BB3FAvz8-",
    "outputId": "37eb9406-014f-45e0-e763-cf36f99ef7fc"
   },
   "outputs": [
    {
     "data": {
      "text/plain": [
       "False"
      ]
     },
     "execution_count": 17,
     "metadata": {},
     "output_type": "execute_result"
    }
   ],
   "source": [
    "# 0 or 0 = 0 (Note that this is the only case in which the 'or' logical operator generates a False output)\n",
    "\n",
    "False or False"
   ]
  },
  {
   "cell_type": "code",
   "execution_count": 21,
   "metadata": {
    "colab": {
     "base_uri": "https://localhost:8080/",
     "height": 34
    },
    "colab_type": "code",
    "executionInfo": {
     "elapsed": 467,
     "status": "ok",
     "timestamp": 1599885172194,
     "user": {
      "displayName": "Stemplicity",
      "photoUrl": "https://lh3.googleusercontent.com/a-/AOh14Gj2vCFt-bD5mPBhUWX0QA6xiBgoXQXtwUm2jgjaCg=s64",
      "userId": "10668071569687886186"
     },
     "user_tz": 240
    },
    "id": "KC9ArCvsvz7J",
    "outputId": "e870d39b-b3c2-4ac8-c4ad-ad8b28de834a"
   },
   "outputs": [
    {
     "data": {
      "text/plain": [
       "0"
      ]
     },
     "execution_count": 21,
     "metadata": {},
     "output_type": "execute_result"
    }
   ],
   "source": [
    " # True and False = False    \n",
    "    \n",
    "1 and 0"
   ]
  },
  {
   "cell_type": "code",
   "execution_count": 22,
   "metadata": {
    "colab": {
     "base_uri": "https://localhost:8080/",
     "height": 34
    },
    "colab_type": "code",
    "executionInfo": {
     "elapsed": 362,
     "status": "ok",
     "timestamp": 1599885172198,
     "user": {
      "displayName": "Stemplicity",
      "photoUrl": "https://lh3.googleusercontent.com/a-/AOh14Gj2vCFt-bD5mPBhUWX0QA6xiBgoXQXtwUm2jgjaCg=s64",
      "userId": "10668071569687886186"
     },
     "user_tz": 240
    },
    "id": "1kVyRF3Avz5V",
    "outputId": "9b7dace2-4d74-47ac-dda2-2fc0af16d444"
   },
   "outputs": [
    {
     "data": {
      "text/plain": [
       "1"
      ]
     },
     "execution_count": 22,
     "metadata": {},
     "output_type": "execute_result"
    }
   ],
   "source": [
    "# True or False = True\n",
    "\n",
    "1 or 0"
   ]
  },
  {
   "cell_type": "markdown",
   "metadata": {
    "colab_type": "text",
    "id": "vjvXsd7ezN4y"
   },
   "source": [
    "**MINI CHALLENGE #2:**\n",
    "- **Without executing the code cell, What will these two lines of code generate?**\n",
    "\n",
    "```\n",
    "print('FINANCE'!='FINANCE' and (10 > 3) and (20 == 20)) \n",
    "```\n",
    "\n",
    "```\n",
    "print('Finance'!='FINANCE' or (16 > 20) or (25 == 25)) \n",
    "```\n"
   ]
  },
  {
   "cell_type": "code",
   "execution_count": 23,
   "metadata": {
    "colab": {},
    "colab_type": "code",
    "id": "4u7cWLq15VZt"
   },
   "outputs": [
    {
     "name": "stdout",
     "output_type": "stream",
     "text": [
      "False\n",
      "\n",
      "True\n"
     ]
    }
   ],
   "source": [
    "print('FINANCE'!='FINANCE' and (10 > 3) and (20 == 20)) \n",
    "print()\n",
    "print('Finance'!='FINANCE' or (16 > 20) or (25 == 25)) "
   ]
  },
  {
   "cell_type": "markdown",
   "metadata": {
    "colab_type": "text",
    "id": "GVMXs0iZ0xJp"
   },
   "source": [
    "**MINI CHALLENGE #3:**\n",
    "- **Without executing the code cell, What will these two lines of code generate?**\n",
    "\n",
    "```\n",
    "a = 5\n",
    "b = 3.5\n",
    "\n",
    "print(a == b or a != b) \n",
    "print(a == b and a != b) \n",
    "```\n",
    "\n"
   ]
  },
  {
   "cell_type": "code",
   "execution_count": 25,
   "metadata": {
    "colab": {},
    "colab_type": "code",
    "id": "xA9pXas-5WJB"
   },
   "outputs": [
    {
     "name": "stdout",
     "output_type": "stream",
     "text": [
      "True\n",
      "False\n"
     ]
    }
   ],
   "source": [
    "a = 5\n",
    "b = 3.5\n",
    "\n",
    "print(a == b or a != b) \n",
    "print(a == b and a != b) "
   ]
  },
  {
   "cell_type": "markdown",
   "metadata": {
    "colab_type": "text",
    "id": "STR2UADaxtHC"
   },
   "source": [
    "# 3. CONDITIONAL STATEMENTS"
   ]
  },
  {
   "cell_type": "markdown",
   "metadata": {
    "colab_type": "text",
    "id": "owrJExRxX--G"
   },
   "source": [
    "- A simple if-else statement is written in Python as follows:\n",
    "\n",
    "```\n",
    "if condition:\n",
    "  statement #1\n",
    "else:\n",
    "  statement #2\n",
    "```\n",
    "\n",
    "- If the condition is true, execute the first indented statement\n",
    "- if the condition is not true, then execute the else indented statements. \n",
    "- Note that Python uses indentation (whitespace) to indicate code sections and scope."
   ]
  },
  {
   "cell_type": "code",
   "execution_count": null,
   "metadata": {
    "colab": {
     "base_uri": "https://localhost:8080/",
     "height": 34
    },
    "colab_type": "code",
    "executionInfo": {
     "elapsed": 331,
     "status": "ok",
     "timestamp": 1599885287624,
     "user": {
      "displayName": "Stemplicity",
      "photoUrl": "https://lh3.googleusercontent.com/a-/AOh14Gj2vCFt-bD5mPBhUWX0QA6xiBgoXQXtwUm2jgjaCg=s64",
      "userId": "10668071569687886186"
     },
     "user_tz": 240
    },
    "id": "9iiHeyl_xvte",
    "outputId": "157c303b-028c-492a-98b7-36c4036834ca"
   },
   "outputs": [
    {
     "name": "stdout",
     "output_type": "stream",
     "text": [
      "If condition is True\n"
     ]
    }
   ],
   "source": []
  },
  {
   "cell_type": "code",
   "execution_count": null,
   "metadata": {
    "colab": {
     "base_uri": "https://localhost:8080/",
     "height": 34
    },
    "colab_type": "code",
    "executionInfo": {
     "elapsed": 306,
     "status": "ok",
     "timestamp": 1599885296360,
     "user": {
      "displayName": "Stemplicity",
      "photoUrl": "https://lh3.googleusercontent.com/a-/AOh14Gj2vCFt-bD5mPBhUWX0QA6xiBgoXQXtwUm2jgjaCg=s64",
      "userId": "10668071569687886186"
     },
     "user_tz": 240
    },
    "id": "M05mmLIWxzCP",
    "outputId": "cbe8f365-93d8-4bf6-dd37-1bc4516a6cfb"
   },
   "outputs": [
    {
     "name": "stdout",
     "output_type": "stream",
     "text": [
      "If condition is False\n"
     ]
    }
   ],
   "source": []
  },
  {
   "cell_type": "code",
   "execution_count": null,
   "metadata": {
    "colab": {
     "base_uri": "https://localhost:8080/",
     "height": 34
    },
    "colab_type": "code",
    "executionInfo": {
     "elapsed": 228,
     "status": "ok",
     "timestamp": 1599885302169,
     "user": {
      "displayName": "Stemplicity",
      "photoUrl": "https://lh3.googleusercontent.com/a-/AOh14Gj2vCFt-bD5mPBhUWX0QA6xiBgoXQXtwUm2jgjaCg=s64",
      "userId": "10668071569687886186"
     },
     "user_tz": 240
    },
    "id": "4i8g3ORFxzFn",
    "outputId": "0b8e9886-b5ad-459a-b51c-8a7948838eef"
   },
   "outputs": [
    {
     "name": "stdout",
     "output_type": "stream",
     "text": [
      "Last statement is true\n"
     ]
    }
   ],
   "source": []
  },
  {
   "cell_type": "code",
   "execution_count": null,
   "metadata": {
    "colab": {
     "base_uri": "https://localhost:8080/",
     "height": 34
    },
    "colab_type": "code",
    "executionInfo": {
     "elapsed": 374,
     "status": "ok",
     "timestamp": 1599885305883,
     "user": {
      "displayName": "Stemplicity",
      "photoUrl": "https://lh3.googleusercontent.com/a-/AOh14Gj2vCFt-bD5mPBhUWX0QA6xiBgoXQXtwUm2jgjaCg=s64",
      "userId": "10668071569687886186"
     },
     "user_tz": 240
    },
    "id": "cZKbXTtVxzAG",
    "outputId": "00dfe76a-d431-4007-dbf6-036a71b4a532"
   },
   "outputs": [
    {
     "name": "stdout",
     "output_type": "stream",
     "text": [
      "First statement is true\n"
     ]
    }
   ],
   "source": []
  },
  {
   "cell_type": "code",
   "execution_count": null,
   "metadata": {
    "colab": {
     "base_uri": "https://localhost:8080/",
     "height": 50
    },
    "colab_type": "code",
    "executionInfo": {
     "elapsed": 5315,
     "status": "ok",
     "timestamp": 1599885323446,
     "user": {
      "displayName": "Stemplicity",
      "photoUrl": "https://lh3.googleusercontent.com/a-/AOh14Gj2vCFt-bD5mPBhUWX0QA6xiBgoXQXtwUm2jgjaCg=s64",
      "userId": "10668071569687886186"
     },
     "user_tz": 240
    },
    "id": "qXCMo76Wxy95",
    "outputId": "4509b92f-021d-4ed1-ee1f-b4ee278a4763"
   },
   "outputs": [
    {
     "name": "stdout",
     "output_type": "stream",
     "text": [
      "Enter your username:Ryan\n",
      "Access granted\n"
     ]
    }
   ],
   "source": [
    "# Let's take an input from the user and grant or deny access accordingly\n"
   ]
  },
  {
   "cell_type": "code",
   "execution_count": null,
   "metadata": {
    "colab": {
     "base_uri": "https://localhost:8080/",
     "height": 50
    },
    "colab_type": "code",
    "executionInfo": {
     "elapsed": 3513,
     "status": "ok",
     "timestamp": 1599885348074,
     "user": {
      "displayName": "Stemplicity",
      "photoUrl": "https://lh3.googleusercontent.com/a-/AOh14Gj2vCFt-bD5mPBhUWX0QA6xiBgoXQXtwUm2jgjaCg=s64",
      "userId": "10668071569687886186"
     },
     "user_tz": 240
    },
    "id": "mgZaUUxhxy75",
    "outputId": "0afa30bd-e080-49c0-bcf0-0e7b684b284c"
   },
   "outputs": [
    {
     "name": "stdout",
     "output_type": "stream",
     "text": [
      "Enter your username:RYAN\n",
      "Access granted\n"
     ]
    }
   ],
   "source": [
    "# Let's make the code more robust (case insensitive)\n",
    "\n"
   ]
  },
  {
   "cell_type": "markdown",
   "metadata": {
    "colab_type": "text",
    "id": "E9b_qCZ12Baz"
   },
   "source": [
    "**MINI CHALLENGE #4:**\n",
    "- **Write a code that takes a number from the user and indicates if it's positive or negative**"
   ]
  },
  {
   "cell_type": "code",
   "execution_count": null,
   "metadata": {
    "colab": {},
    "colab_type": "code",
    "id": "I4-RpDvp2kHG"
   },
   "outputs": [],
   "source": []
  },
  {
   "cell_type": "markdown",
   "metadata": {
    "colab_type": "text",
    "id": "OnJwHMUe2Ztp"
   },
   "source": [
    "**MINI CHALLENGE #5:**\n",
    "- **Write a code that takes a number from the user and checks if the number is divisible by 3 but is not a multiple of 7**"
   ]
  },
  {
   "cell_type": "code",
   "execution_count": null,
   "metadata": {
    "colab": {},
    "colab_type": "code",
    "id": "KHv409N93OjP"
   },
   "outputs": [],
   "source": []
  },
  {
   "cell_type": "markdown",
   "metadata": {
    "colab_type": "text",
    "id": "bMs3OKSo29_D"
   },
   "source": [
    "**MINI CHALLENGE #6:** \n",
    "- **Write a code that takes a number from the user and indicate if the number is even or odd**"
   ]
  },
  {
   "cell_type": "code",
   "execution_count": null,
   "metadata": {
    "colab": {},
    "colab_type": "code",
    "id": "RaDyZQqC28Ya"
   },
   "outputs": [],
   "source": []
  },
  {
   "cell_type": "markdown",
   "metadata": {
    "colab_type": "text",
    "id": "OHTSxeq90GFt"
   },
   "source": [
    "# MINI CHALLENGE SOLUTIONS"
   ]
  },
  {
   "cell_type": "markdown",
   "metadata": {
    "colab_type": "text",
    "id": "_TkjGyHolLOh"
   },
   "source": [
    "**MINI CHALLENGE #1 SOLUTION:**\n",
    "- **Without executing the code cell, What will this code generate?**\n",
    "\n",
    "```\n",
    "stock_1_price = 15\n",
    "stock_2_price = 10\n",
    "\n",
    "print(stock_1_price == stock_2_price) \n",
    "print(stock_1_price != stock_2_price) \n",
    "print(stock_1_price > stock_2_price)\n",
    "print(stock_1_price < stock_2_price) \n",
    "```\n"
   ]
  },
  {
   "cell_type": "code",
   "execution_count": null,
   "metadata": {
    "colab": {
     "base_uri": "https://localhost:8080/",
     "height": 84
    },
    "colab_type": "code",
    "executionInfo": {
     "elapsed": 333,
     "status": "ok",
     "timestamp": 1599885080125,
     "user": {
      "displayName": "Stemplicity",
      "photoUrl": "https://lh3.googleusercontent.com/a-/AOh14Gj2vCFt-bD5mPBhUWX0QA6xiBgoXQXtwUm2jgjaCg=s64",
      "userId": "10668071569687886186"
     },
     "user_tz": 240
    },
    "id": "jI9I6Xv4lLOi",
    "outputId": "ce45f272-cf22-437b-db2f-54eedd5045f6"
   },
   "outputs": [
    {
     "name": "stdout",
     "output_type": "stream",
     "text": [
      "False\n",
      "True\n",
      "True\n",
      "False\n"
     ]
    }
   ],
   "source": [
    "stock_1_price = 15\n",
    "stock_2_price = 10\n",
    "\n",
    "print(stock_1_price == stock_2_price) \n",
    "print(stock_1_price != stock_2_price) \n",
    "print(stock_1_price > stock_2_price)\n",
    "print(stock_1_price < stock_2_price) "
   ]
  },
  {
   "cell_type": "markdown",
   "metadata": {
    "colab_type": "text",
    "id": "vuw6vDPK0Jmd"
   },
   "source": [
    "**MINI CHALLENGE #2 SOLUTION:**\n",
    "- **Without executing the code cell, What will these two lines of code generate?**\n",
    "\n",
    "```\n",
    "print( 'Finance'!='FINANCE' and (10 > 3) and (20 == 20)) \n",
    "```\n",
    "\n",
    "```\n",
    "print( 'Finance'!='FINANCE' or (16 > 20) or (25 == 25)) \n",
    "```\n"
   ]
  },
  {
   "cell_type": "code",
   "execution_count": null,
   "metadata": {
    "colab": {
     "base_uri": "https://localhost:8080/",
     "height": 34
    },
    "colab_type": "code",
    "executionInfo": {
     "elapsed": 322,
     "status": "ok",
     "timestamp": 1599885211884,
     "user": {
      "displayName": "Stemplicity",
      "photoUrl": "https://lh3.googleusercontent.com/a-/AOh14Gj2vCFt-bD5mPBhUWX0QA6xiBgoXQXtwUm2jgjaCg=s64",
      "userId": "10668071569687886186"
     },
     "user_tz": 240
    },
    "id": "gYd-N11Y0NZC",
    "outputId": "a843dafa-d0d5-4ec4-c1a9-fc023604658a"
   },
   "outputs": [
    {
     "name": "stdout",
     "output_type": "stream",
     "text": [
      "False\n"
     ]
    }
   ],
   "source": [
    "# FALSE and TRUE and TRUE\n",
    "print('FINANCE'!='FINANCE' and (10 > 3) and (20 == 20)) "
   ]
  },
  {
   "cell_type": "code",
   "execution_count": null,
   "metadata": {
    "colab": {
     "base_uri": "https://localhost:8080/",
     "height": 34
    },
    "colab_type": "code",
    "executionInfo": {
     "elapsed": 197,
     "status": "ok",
     "timestamp": 1599885212409,
     "user": {
      "displayName": "Stemplicity",
      "photoUrl": "https://lh3.googleusercontent.com/a-/AOh14Gj2vCFt-bD5mPBhUWX0QA6xiBgoXQXtwUm2jgjaCg=s64",
      "userId": "10668071569687886186"
     },
     "user_tz": 240
    },
    "id": "CaWri1bQ0Pys",
    "outputId": "316520fa-847a-44b2-a027-ae71b2de898e"
   },
   "outputs": [
    {
     "name": "stdout",
     "output_type": "stream",
     "text": [
      "True\n"
     ]
    }
   ],
   "source": [
    "# TRUE or FALSE or TRUE\n",
    "print('Finance'!='FINANCE' or (16 > 20) or (25 == 25)) "
   ]
  },
  {
   "cell_type": "markdown",
   "metadata": {
    "colab_type": "text",
    "id": "ckRo860a1YRo"
   },
   "source": [
    "**MINI CHALLENGE #3 SOLUTION:**\n",
    "- **Without executing the code cell, What will these two lines of code generate?**\n",
    "\n",
    "```\n",
    "a = 5\n",
    "b = 3.5\n",
    "\n",
    "print(a == b or a != b) \n",
    "print(a == b and a != b) \n",
    "```\n"
   ]
  },
  {
   "cell_type": "code",
   "execution_count": null,
   "metadata": {
    "colab": {
     "base_uri": "https://localhost:8080/",
     "height": 50
    },
    "colab_type": "code",
    "executionInfo": {
     "elapsed": 310,
     "status": "ok",
     "timestamp": 1599885247152,
     "user": {
      "displayName": "Stemplicity",
      "photoUrl": "https://lh3.googleusercontent.com/a-/AOh14Gj2vCFt-bD5mPBhUWX0QA6xiBgoXQXtwUm2jgjaCg=s64",
      "userId": "10668071569687886186"
     },
     "user_tz": 240
    },
    "id": "eFMOENhv1avh",
    "outputId": "016c2b13-1cb1-401e-8832-31258dac3a7c"
   },
   "outputs": [
    {
     "name": "stdout",
     "output_type": "stream",
     "text": [
      "True\n",
      "False\n"
     ]
    }
   ],
   "source": [
    "a = 5\n",
    "b = 3.5\n",
    "\n",
    "print(a == b or a != b) # False or True = True \n",
    "print(a == b and a != b) # False and True = False"
   ]
  },
  {
   "cell_type": "markdown",
   "metadata": {
    "colab_type": "text",
    "id": "7Utj-SiU3UuK"
   },
   "source": [
    "**MINI CHALLENGE #4 SOLUTION:**\n",
    "- **Write a code that takes a number from the user and indicates if it's positive or negative or zero**"
   ]
  },
  {
   "cell_type": "code",
   "execution_count": null,
   "metadata": {
    "colab": {
     "base_uri": "https://localhost:8080/",
     "height": 50
    },
    "colab_type": "code",
    "executionInfo": {
     "elapsed": 3478,
     "status": "ok",
     "timestamp": 1597675280913,
     "user": {
      "displayName": "Stemplicity",
      "photoUrl": "https://lh3.googleusercontent.com/a-/AOh14Gj2vCFt-bD5mPBhUWX0QA6xiBgoXQXtwUm2jgjaCg=s64",
      "userId": "10668071569687886186"
     },
     "user_tz": 240
    },
    "id": "JtX7pRr03Y7r",
    "outputId": "6a96004f-ee9e-4498-90cb-8e166716e890"
   },
   "outputs": [
    {
     "name": "stdout",
     "output_type": "stream",
     "text": [
      "Please enter an integer: 9\n",
      "Number is Positive\n"
     ]
    }
   ],
   "source": [
    "x = int(input(\"Please enter an integer: \"))\n",
    "\n",
    "if x < 0:\n",
    "    print('Number is Negative')\n",
    "elif x > 0:\n",
    "    print('Number is Positive')\n",
    "else:    \n",
    "    print ('Number is zero')"
   ]
  },
  {
   "cell_type": "markdown",
   "metadata": {
    "colab_type": "text",
    "id": "4yvXX18Y3UuL"
   },
   "source": [
    "**MINI CHALLENGE #5 SOLUTION:**\n",
    "- **Write a code that takes a number from the user and checks if the number is divisible by 3 but is not a multiple of 7**"
   ]
  },
  {
   "cell_type": "code",
   "execution_count": null,
   "metadata": {
    "colab": {
     "base_uri": "https://localhost:8080/",
     "height": 50
    },
    "colab_type": "code",
    "executionInfo": {
     "elapsed": 3069,
     "status": "ok",
     "timestamp": 1597675356401,
     "user": {
      "displayName": "Stemplicity",
      "photoUrl": "https://lh3.googleusercontent.com/a-/AOh14Gj2vCFt-bD5mPBhUWX0QA6xiBgoXQXtwUm2jgjaCg=s64",
      "userId": "10668071569687886186"
     },
     "user_tz": 240
    },
    "id": "mmyi-AFc3ZLd",
    "outputId": "58d90f3e-52d0-4c44-e9fd-7be93a43e2de"
   },
   "outputs": [
    {
     "name": "stdout",
     "output_type": "stream",
     "text": [
      "Enter a number between 1 and 100:21\n",
      "The number does not satisfy the requirements\n"
     ]
    }
   ],
   "source": [
    "# Try 21\n",
    "\n",
    "i = int(input(\"Enter a number between 1 and 100:\"))\n",
    "\n",
    "if (i % 3 == 0) and (i % 7 !=0):\n",
    "    print(\"Number satisfies the requirement; The number is divisible by 3 and not multiple of 7\")\n",
    "else:\n",
    "    print(\"The number does not satisfy the requirements\")\n"
   ]
  },
  {
   "cell_type": "markdown",
   "metadata": {
    "colab_type": "text",
    "id": "Y-I6GMYA3UuM"
   },
   "source": [
    "**MINI CHALLENGE #6 SOLUTION:** \n",
    "- **Write a code that takes a number from the user and indicate if the number is even or odd**"
   ]
  },
  {
   "cell_type": "code",
   "execution_count": null,
   "metadata": {
    "colab": {
     "base_uri": "https://localhost:8080/",
     "height": 50
    },
    "colab_type": "code",
    "executionInfo": {
     "elapsed": 6509,
     "status": "ok",
     "timestamp": 1597675379186,
     "user": {
      "displayName": "Stemplicity",
      "photoUrl": "https://lh3.googleusercontent.com/a-/AOh14Gj2vCFt-bD5mPBhUWX0QA6xiBgoXQXtwUm2jgjaCg=s64",
      "userId": "10668071569687886186"
     },
     "user_tz": 240
    },
    "id": "VNWzhMS03Z71",
    "outputId": "18804c8b-4b77-4b25-e79e-51c9aefa0fa9"
   },
   "outputs": [
    {
     "name": "stdout",
     "output_type": "stream",
     "text": [
      "Please enter an integer from 1 to 1000: 50\n",
      "Number is Even\n"
     ]
    }
   ],
   "source": [
    "x = int(input(\"Please enter an integer from 1 to 1000: \"))\n",
    "\n",
    "if x % 2==0:\n",
    "    print('Number is Even')\n",
    "else:\n",
    "    print('Number is odd')"
   ]
  }
 ],
 "metadata": {
  "colab": {
   "authorship_tag": "ABX9TyN4gHoj+Ttay0IEx46mDzQi",
   "collapsed_sections": [],
   "name": "3. Python 101 - Comparison, Logical Operators, Conditional Statements - Skeleton b4 filming.ipynb",
   "provenance": []
  },
  "kernelspec": {
   "display_name": "Python 3",
   "language": "python",
   "name": "python3"
  },
  "language_info": {
   "codemirror_mode": {
    "name": "ipython",
    "version": 3
   },
   "file_extension": ".py",
   "mimetype": "text/x-python",
   "name": "python",
   "nbconvert_exporter": "python",
   "pygments_lexer": "ipython3",
   "version": "3.8.5"
  }
 },
 "nbformat": 4,
 "nbformat_minor": 4
}
